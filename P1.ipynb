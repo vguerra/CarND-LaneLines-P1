{
 "cells": [
  {
   "cell_type": "markdown",
   "metadata": {},
   "source": [
    "# **Finding Lane Lines on the Road** \n",
    "***\n",
    "In this project, you will use the tools you learned about in the lesson to identify lane lines on the road.  You can develop your pipeline on a series of individual images, and later apply the result to a video stream (really just a series of images). Check out the video clip \"raw-lines-example.mp4\" (also contained in this repository) to see what the output should look like after using the helper functions below. \n",
    "\n",
    "Once you have a result that looks roughly like \"raw-lines-example.mp4\", you'll need to get creative and try to average and/or extrapolate the line segments you've detected to map out the full extent of the lane lines.  You can see an example of the result you're going for in the video \"P1_example.mp4\".  Ultimately, you would like to draw just one line for the left side of the lane, and one for the right.\n",
    "\n",
    "---\n",
    "Let's have a look at our first image called 'test_images/solidWhiteRight.jpg'.  Run the 2 cells below (hit Shift-Enter or the \"play\" button above) to display the image.\n",
    "\n",
    "**Note** If, at any point, you encounter frozen display windows or other confounding issues, you can always start again with a clean slate by going to the \"Kernel\" menu above and selecting \"Restart & Clear Output\".\n",
    "\n",
    "---"
   ]
  },
  {
   "cell_type": "markdown",
   "metadata": {},
   "source": [
    "**The tools you have are color selection, region of interest selection, grayscaling, Gaussian smoothing, Canny Edge Detection and Hough Tranform line detection.  You  are also free to explore and try other techniques that were not presented in the lesson.  Your goal is piece together a pipeline to detect the line segments in the image, then average/extrapolate them and draw them onto the image for display (as below).  Once you have a working pipeline, try it out on the video stream below.**\n",
    "\n",
    "---\n",
    "\n",
    "<figure>\n",
    " <img src=\"line-segments-example.jpg\" width=\"380\" alt=\"Combined Image\" />\n",
    " <figcaption>\n",
    " <p></p> \n",
    " <p style=\"text-align: center;\"> Your output should look something like this (above) after detecting line segments using the helper functions below </p> \n",
    " </figcaption>\n",
    "</figure>\n",
    " <p></p> \n",
    "<figure>\n",
    " <img src=\"laneLines_thirdPass.jpg\" width=\"380\" alt=\"Combined Image\" />\n",
    " <figcaption>\n",
    " <p></p> \n",
    " <p style=\"text-align: center;\"> Your goal is to connect/average/extrapolate line segments to get output like this</p> \n",
    " </figcaption>\n",
    "</figure>"
   ]
  },
  {
   "cell_type": "code",
   "execution_count": null,
   "metadata": {
    "collapsed": false
   },
   "outputs": [],
   "source": [
    "#importing some useful packages\n",
    "import matplotlib.pyplot as plt\n",
    "import matplotlib.image as mpimg\n",
    "import numpy as np\n",
    "import cv2\n",
    "%matplotlib inline"
   ]
  },
  {
   "cell_type": "code",
   "execution_count": null,
   "metadata": {
    "collapsed": false
   },
   "outputs": [],
   "source": [
    "#reading in an image\n",
    "image = mpimg.imread('test_images/solidWhiteRight.jpg')\n",
    "#printing out some stats and plotting\n",
    "print('This image is:', type(image), 'with dimesions:', image.shape)\n",
    "plt.imshow(image)  #call as plt.imshow(gray, cmap='gray') to show a grayscaled image"
   ]
  },
  {
   "cell_type": "markdown",
   "metadata": {},
   "source": [
    "**Some OpenCV functions (beyond those introduced in the lesson) that might be useful for this project are:**\n",
    "\n",
    "`cv2.inRange()` for color selection  \n",
    "`cv2.fillPoly()` for regions selection  \n",
    "`cv2.line()` to draw lines on an image given endpoints  \n",
    "`cv2.addWeighted()` to coadd / overlay two images\n",
    "`cv2.cvtColor()` to grayscale or change color\n",
    "`cv2.imwrite()` to output images to file  \n",
    "`cv2.bitwise_and()` to apply a mask to an image\n",
    "\n",
    "**Check out the OpenCV documentation to learn about these and discover even more awesome functionality!**"
   ]
  },
  {
   "cell_type": "markdown",
   "metadata": {},
   "source": [
    "Below are some helper functions to help get you started. They should look familiar from the lesson!"
   ]
  },
  {
   "cell_type": "code",
   "execution_count": null,
   "metadata": {
    "collapsed": false
   },
   "outputs": [],
   "source": [
    "import math\n",
    "\n",
    "# keep last points for smothing when drawing lanes\n",
    "# specially useful when working on videos:\n",
    "\n",
    "prev_iter = {\n",
    "    'll' : None,\n",
    "    'rl' : None\n",
    "}\n",
    "\n",
    "def grayscale(img):\n",
    "    \"\"\"Applies the Grayscale transform\n",
    "    This will return an image with only one color channel\n",
    "    but NOTE: to see the returned image as grayscale\n",
    "    you should call plt.imshow(gray, cmap='gray')\"\"\"\n",
    "    return cv2.cvtColor(img, cv2.COLOR_BGR2GRAY)\n",
    "    \n",
    "def canny(img, low_threshold, high_threshold):\n",
    "    \"\"\"Applies the Canny transform\"\"\"\n",
    "    return cv2.Canny(img, low_threshold, high_threshold)\n",
    "\n",
    "def gaussian_blur(img, kernel_size):\n",
    "    \"\"\"Applies a Gaussian Noise kernel\"\"\"\n",
    "    return cv2.GaussianBlur(img, (kernel_size, kernel_size), 0)\n",
    "\n",
    "def region_of_interest(img, vertices):\n",
    "    \"\"\"\n",
    "    Applies an image mask.\n",
    "    \n",
    "    Only keeps the region of the image defined by the polygon\n",
    "    formed from `vertices`. The rest of the image is set to black.\n",
    "    \"\"\"\n",
    "    #defining a blank mask to start with\n",
    "    mask = np.zeros_like(img)   \n",
    "    \n",
    "    #defining a 3 channel or 1 channel color to fill the mask with depending on the input image\n",
    "    if len(img.shape) > 2:\n",
    "        channel_count = img.shape[2]  # i.e. 3 or 4 depending on your image\n",
    "        ignore_mask_color = (255,) * channel_count\n",
    "    else:\n",
    "        ignore_mask_color = 255\n",
    "        \n",
    "    #filling pixels inside the polygon defined by \"vertices\" with the fill color    \n",
    "    cv2.fillPoly(mask, vertices, ignore_mask_color)\n",
    "    \n",
    "    #returning the image only where mask pixels are nonzero\n",
    "    masked_image = cv2.bitwise_and(img, mask)\n",
    "    return masked_image\n",
    "\n",
    "def lane_endpoints(lane_info, y_max, y_min, lane_prefix):\n",
    "    \"\"\"\n",
    "    Computing end points for a lane given information\n",
    "    about all points that conform with the slope criteria.\n",
    "    \"\"\"\n",
    "    \n",
    "    global prev_iter\n",
    "    li = lane_info\n",
    "    avg_slope = np.mean(li['slopes'])\n",
    "    x_avg, y_avg = (int(np.mean(li['xs'])), int(np.mean(li['ys'])))\n",
    "    x_max = int((y_max - y_avg)/avg_slope + x_avg)\n",
    "    x_min = int((y_min - y_avg)/avg_slope + x_avg)\n",
    "\n",
    "    #smothing of line\n",
    "    if prev_iter[lane_prefix]:\n",
    "        pp = prev_iter[lane_prefix]\n",
    "        (x_min, y_min, x_max, y_max) = (int((x_min + pp[0])/2),\n",
    "                                        int((y_min + pp[1])/2),\n",
    "                                        int((x_max + pp[2])/2),\n",
    "                                        int((y_max + pp[3])/2))\n",
    "    prev_iter[lane_prefix] = (x_min, y_min, x_max, y_max)\n",
    "    return (x_min, y_min, x_max, y_max)\n",
    "\n",
    "    \n",
    "def draw_lines(img, lines, color=[255, 0, 0], thickness=10):\n",
    "    \"\"\"\n",
    "    NOTE: this is the function you might want to use as a starting point once you want to \n",
    "    average/extrapolate the line segments you detect to map out the full\n",
    "    extent of the lane (going from the result shown in raw-lines-example.mp4\n",
    "    to that shown in P1_example.mp4).  \n",
    "    \n",
    "    Think about things like separating line segments by their \n",
    "    slope ((y2-y1)/(x2-x1)) to decide which segments are part of the left\n",
    "    line vs. the right line.  Then, you can average the position of each of \n",
    "    the lines and extrapolate to the top and bottom of the lane.\n",
    "    \n",
    "    This function draws `lines` with `color` and `thickness`.    \n",
    "    Lines are drawn on the image inplace (mutates the image).\n",
    "    If you want to make the lines semi-transparent, think about combining\n",
    "    this function with the weighted_img() function below\n",
    "    \"\"\"\n",
    "    ll = {'slopes': [], 'xs': [], 'ys': []}\n",
    "    rl = {'slopes': [], 'xs': [], 'ys': []}\n",
    "    y_max = image.shape[0]\n",
    "    \n",
    "    \n",
    "    for line in lines:\n",
    "        for x1,y1,x2,y2 in line:\n",
    "            #cv2.line(img, (x1, y1), (x2, y2), color, 4)\n",
    "            m = (y2-y1)/(x2-x1)\n",
    "            if (m < -0.2):\n",
    "                ll['slopes'].append(m)\n",
    "                ll['xs'].extend([x2, x1])\n",
    "                ll['ys'].extend([y2, y1])\n",
    "            elif (m > 0.2): \n",
    "                rl['slopes'].append(m)            \n",
    "                rl['xs'].extend([x2, x1])\n",
    "                rl['ys'].extend([y2, y1])\n",
    "\n",
    "    ll_y_min = np.amin(ll['ys']) if ll['ys'] else y_max\n",
    "    rl_y_min = np.amin(rl['ys']) if rl['ys'] else y_max\n",
    "    \n",
    "    y_min = min(ll_y_min, rl_y_min)\n",
    "\n",
    "    # handling left lane\n",
    "    if ll['xs']:\n",
    "        (x1, y1, x2, y2) = lane_endpoints(ll, y_max, y_min, 'll')\n",
    "        cv2.line(img, (x1, y1), (x2, y2), color, thickness)\n",
    "    \n",
    "    # handling right lane\n",
    "    if rl['xs']:\n",
    "        (x1, y1, x2, y2) = lane_endpoints(rl, y_max, y_min, 'rl')\n",
    "        cv2.line(img, (x1, y1), (x2, y2), color, thickness)\n",
    "    \n",
    "def hough_lines(img, rho, theta, threshold, min_line_len, max_line_gap):\n",
    "    \"\"\"\n",
    "    `img` should be the output of a Canny transform.\n",
    "        \n",
    "    Returns an image with hough lines drawn.\n",
    "    \"\"\"\n",
    "    lines = cv2.HoughLinesP(img, rho, theta, threshold, np.array([]), minLineLength=min_line_len, maxLineGap=max_line_gap)\n",
    "    line_img = np.zeros((*img.shape, 3), dtype=np.uint8)\n",
    "    draw_lines(line_img, lines)\n",
    "\n",
    "    return line_img\n",
    "\n",
    "# Python 3 has support for cool math symbols.\n",
    "\n",
    "def weighted_img(img, initial_img, α=0.8, β=1., λ=0.):\n",
    "    \"\"\"\n",
    "    `img` is the output of the hough_lines(), An image with lines drawn on it.\n",
    "    Should be a blank image (all black) with lines drawn on it.\n",
    "    \n",
    "    `initial_img` should be the image before any processing.\n",
    "    \n",
    "    The result image is computed as follows:\n",
    "    \n",
    "    initial_img * α + img * β + λ\n",
    "    NOTE: initial_img and img must be the same shape!\n",
    "    \"\"\"\n",
    "    return cv2.addWeighted(initial_img, α, img, β, λ)\n",
    "\n",
    "# Putting together the pipeline:\n",
    "\n",
    "def find_lanes_in_image(image):\n",
    "    \"\"\"\n",
    "    `image` raw image on which we will draw lanes.\n",
    "    \n",
    "    returns image with left and right lanes drawn on.\n",
    "    \"\"\"\n",
    "    \n",
    "    imshape = image.shape\n",
    "    gray = grayscale(image)\n",
    "    blured = gaussian_blur(gray, 5)\n",
    "    edges = canny(blured, 50, 200)\n",
    "\n",
    "    poly_vertices = np.array([[(0,imshape[0]),(450, 320), (490, 320),\n",
    "                          (imshape[1],imshape[0])]],\n",
    "                        dtype=np.int32)\n",
    "\n",
    "    masked_edges = region_of_interest(edges, poly_vertices)\n",
    "    \n",
    "    rho = 2 # distance resolution in pixels of the Hough grid\n",
    "    theta = np.pi/180 # angular resolution in radians of the Hough grid\n",
    "    threshold = 20     # minimum number of votes (intersections in Hough grid cell)\n",
    "    min_line_len = 30 #minimum number of pixels making up a line\n",
    "    max_line_gap = 20    # maximum gap in pixels between connectable line segments\n",
    "    \n",
    "    hlines = hough_lines(masked_edges, rho , theta,\n",
    "                        threshold, min_line_len, max_line_gap) \n",
    "\n",
    "    return weighted_img(hlines, image, α=0.8, β=1., λ=0.)\n",
    "\n",
    "image_with_lanes = find_lanes_in_image(image)\n",
    "\n",
    "plt.figure(),plt.imshow(image)\n",
    "plt.title('Original Image'), plt.xticks([]), plt.yticks([])\n",
    "plt.figure(), plt.imshow(image_with_lanes, cmap='gray')\n",
    "plt.title('Lines Image'), plt.xticks([]), plt.yticks([])"
   ]
  },
  {
   "cell_type": "markdown",
   "metadata": {},
   "source": [
    "## Test on Images\n",
    "\n",
    "Now you should build your pipeline to work on the images in the directory \"test_images\"  \n",
    "**You should make sure your pipeline works well on these images before you try the videos.**"
   ]
  },
  {
   "cell_type": "code",
   "execution_count": null,
   "metadata": {
    "collapsed": false
   },
   "outputs": [],
   "source": [
    "import os\n",
    "\n",
    "test_dir = \"test_images/\"\n",
    "for image_file in os.listdir(test_dir):\n",
    "    global prev_iter\n",
    "    if ( not image_file.endswith('.jpg') or image_file.startswith('Lines')):\n",
    "        continue\n",
    "\n",
    "    # reset smoothing\n",
    "    prev_iter = {\n",
    "        'll' : None,\n",
    "        'rl' : None\n",
    "    }\n",
    "    \n",
    "    new_image_file = \"Lines\" + image_file\n",
    "    new_image_file_path = test_dir + new_image_file\n",
    "    os.remove(new_image_file_path) if os.path.exists(new_image_file_path) else None\n",
    "    \n",
    "    #display results\n",
    "    image = mpimg.imread(test_dir + image_file)\n",
    "    image_with_lanes = find_lanes_in_image(image)\n",
    "    mpimg.imsave(new_image_file_path, image_with_lanes, format='jpg')\n",
    "    \n",
    "    plt.figure()\n",
    "    plt.subplot(121),plt.imshow(image)\n",
    "    plt.title(image_file), plt.xticks([]), plt.yticks([])\n",
    "    plt.subplot(122),plt.imshow(image_with_lanes)\n",
    "    plt.title(new_image_file), plt.xticks([]), plt.yticks([])"
   ]
  },
  {
   "cell_type": "markdown",
   "metadata": {},
   "source": [
    "run your solution on all test_images and make copies into the test_images directory)."
   ]
  },
  {
   "cell_type": "markdown",
   "metadata": {},
   "source": [
    "## Test on Videos\n",
    "\n",
    "You know what's cooler than drawing lanes over images? Drawing lanes over video!\n",
    "\n",
    "We can test our solution on two provided videos:\n",
    "\n",
    "`solidWhiteRight.mp4`\n",
    "\n",
    "`solidYellowLeft.mp4`"
   ]
  },
  {
   "cell_type": "code",
   "execution_count": null,
   "metadata": {
    "collapsed": false
   },
   "outputs": [],
   "source": [
    "# Import everything needed to edit/save/watch video clips\n",
    "from moviepy.editor import VideoFileClip\n",
    "from IPython.display import HTML"
   ]
  },
  {
   "cell_type": "code",
   "execution_count": null,
   "metadata": {
    "collapsed": true
   },
   "outputs": [],
   "source": [
    "def process_image(image):\n",
    "    return find_lanes_in_image(image)"
   ]
  },
  {
   "cell_type": "markdown",
   "metadata": {},
   "source": [
    "Let's try the one with the solid white lane on the right first ..."
   ]
  },
  {
   "cell_type": "code",
   "execution_count": null,
   "metadata": {
    "collapsed": false
   },
   "outputs": [],
   "source": [
    "white_output = 'white.mp4'\n",
    "clip1 = VideoFileClip(\"solidWhiteRight.mp4\")\n",
    "white_clip = clip1.fl_image(process_image) #NOTE: this function expects color images!!\n",
    "%time white_clip.write_videofile(white_output, audio=False)"
   ]
  },
  {
   "cell_type": "markdown",
   "metadata": {},
   "source": [
    "Play the video inline, or if you prefer find the video in your filesystem (should be in the same directory) and play it in your video player of choice."
   ]
  },
  {
   "cell_type": "code",
   "execution_count": null,
   "metadata": {
    "collapsed": false
   },
   "outputs": [],
   "source": [
    "HTML(\"\"\"\n",
    "<video width=\"960\" height=\"540\" controls>\n",
    "  <source src=\"{0}\">\n",
    "</video>\n",
    "\"\"\".format(white_output))"
   ]
  },
  {
   "cell_type": "markdown",
   "metadata": {},
   "source": [
    "**At this point, if you were successful you probably have the Hough line segments drawn onto the road, but what about identifying the full extent of the lane and marking it clearly as in the example video (P1_example.mp4)?  Think about defining a line to run the full length of the visible lane based on the line segments you identified with the Hough Transform.  Modify your draw_lines function accordingly and try re-running your pipeline.**"
   ]
  },
  {
   "cell_type": "markdown",
   "metadata": {},
   "source": [
    "Now for the one with the solid yellow lane on the left. This one's more tricky!"
   ]
  },
  {
   "cell_type": "code",
   "execution_count": null,
   "metadata": {
    "collapsed": false
   },
   "outputs": [],
   "source": [
    "yellow_output = 'yellow.mp4'\n",
    "clip2 = VideoFileClip('solidYellowLeft.mp4')\n",
    "yellow_clip = clip2.fl_image(process_image)\n",
    "%time yellow_clip.write_videofile(yellow_output, audio=False)"
   ]
  },
  {
   "cell_type": "code",
   "execution_count": null,
   "metadata": {
    "collapsed": false
   },
   "outputs": [],
   "source": [
    "HTML(\"\"\"\n",
    "<video width=\"960\" height=\"540\" controls>\n",
    "  <source src=\"{0}\">\n",
    "</video>\n",
    "\"\"\".format(yellow_output))"
   ]
  },
  {
   "cell_type": "markdown",
   "metadata": {},
   "source": [
    "## Reflections\n",
    "\n",
    "Congratulations on finding the lane lines!  As the final step in this project, we would like you to share your thoughts on your lane finding pipeline... specifically, how could you imagine making your algorithm better / more robust?  Where will your current algorithm be likely to fail?\n",
    "\n",
    "Please add your thoughts below,  and if you're up for making your pipeline more robust, be sure to scroll down and check out the optional challenge video below!\n"
   ]
  },
  {
   "cell_type": "markdown",
   "metadata": {},
   "source": [
    "# MY REFLECTIONS:\n",
    "\n",
    "This first project was lots of fun.. so I look forward to the next ones.\n",
    "\n",
    "I describe shortly how my solution is implemented:\n",
    "\n",
    "The whole logic is encapsulated into one single method: `find_lanes_in_image`. This method takes as input an array representation of an image and returns the same image with left and right lanes drawn on it.\n",
    "\n",
    "The pipeline implementad operates as follows:\n",
    "\n",
    "#### Step 1: \n",
    "First the color scale of the image is transformed to gray scale which will ease the detection of lines of any color in a future step. After that noise and details are reduced by using Gaussian smoothing. At this point the image going through the pipelines looks like this:\n",
    "\n",
    "---\n",
    "<figure>\n",
    " <img src=\"./Reflections/blured.jpg\" width=\"380\" alt=\"GrayBlurred\" />\n",
    "</figure>\n",
    "\n",
    "#### Step 2:\n",
    "Then, Canny Edge detection is applied to the image in gray scale to detect all edges. The idea behind this is that the gradient is used to see how fast pixels change in different areas of the image and in which direction they change most rapidly. On top of that, we would like to filter the areas on which we will work on for the rest of the pipeline because we know in which area of the image our lanes will show up. So we mask all we've done so far. The result looks then like:\n",
    "\n",
    "---\n",
    "<figure>\n",
    " <img src=\"./Reflections/canny_masked.jpg\" width=\"380\" alt=\"Canny\" />\n",
    "</figure>\n",
    "\n",
    "#### Step 3:\n",
    "Now, a very nice trick is applied for detecting straight lines out of edges: Hough transformation. The Hough transformation takes all edge points to a different space to try to find the parameters $m$ and $b$ that fine lines of the form: $y = m*x + b$. As a result we obtain end points of lines that we can use to infer left and right lanes. At this stage of the pipeline, the processed image looks like this:\n",
    "\n",
    "---\n",
    "<figure>\n",
    " <img src=\"./Reflections/hough.jpg\" width=\"380\" alt=\"Canny\" />\n",
    "</figure>\n",
    "\n",
    "#### Step 4:\n",
    "You see that we have a bunch of lines. Somehow we have to make sense out of them and try to figure out where exactly our left and right lanes are. For this, all line segment are processed using the following huristic:\n",
    "\n",
    "* First, each line segment either has posstive or negative slope. If the slope is negative, then the segment is probably part of the left lane. Otherwise, part of the right lane. During this categorization all those lines with slope within the range $[-0.2, 0.2]$ are excluded. If you think about it, it is highly unlikely that a lane with slope 0.1 (almost 0, in other words, a horizontal line) would be a lane our car should follow.\n",
    "* Second, for each left and right lane, average quantities are computed: slope and mean-point.\n",
    "* Given the avg. slope and avg. point, we can find exactly the two endpoints that we need to draw the each lane. We know the min and max y for each of the desired endpoints (y max being the edge of the image itself and y min being the minimum y that contributed to the average point) so we can use the formulas $x_{min} = (y_{min} - y_{avg})/m_{avg} + x_{avg}$ and $x_{max} = (y_{max} - y_{avg})/m_{avg} + x_{avg}$.\n",
    "* For the case on which we are processing an stream of images (a video for example) we take endpoints for each lane and average them with the endpoints we saw from the previous image frame. The purpose of this is to smooth drastic changes from frame to frame.\n",
    "\n",
    "The result is one straight line for each lane:\n",
    "\n",
    "---\n",
    "<figure>\n",
    " <img src=\"./Reflections/lanes.jpg\" width=\"380\" alt=\"Lanes\" />\n",
    "</figure>\n",
    "\n",
    "#### Step 5:\n",
    "Finally we need to merge original image with our resulting lanes.\n",
    "\n",
    "---\n",
    "<figure>\n",
    " <img src=\"./Reflections/merged.jpg\" width=\"380\" alt=\"Result\" />\n",
    "</figure>\n",
    "\n",
    "\n",
    "\n",
    "### Current implementation limitations:\n",
    "\n",
    "Clearly this implementation fails on the video challenge and these are my thoughts on it.\n",
    "\n",
    "* The current strategy of converting the original image to a gray scale might not be the best one when there are for example big shadows or other kind of noise that affect brightness directly. Probably another color space would be more tolerant to this situations. I see people mentioning on the forums that a good alternative would be to use HSL or HSV.\n",
    "\n",
    "* Within the pipeline I use a fixed ROI ( Region of Interest ), which might not be the best for when the car starts to approach curves or for when there are median strips within the ROI. As well, it might be that in order to have the camara capture proximate portions of lanes it would capture as well a good portion of the car itself needing a adjustment of the ROI. A good thing to try here would be to dinamically select a good ROI within the image.\n",
    "\n",
    "* I am not sure how the algorithm would react if there is another car within the ROI. Probably the number of lines detected would increase dramatically ( given the rectangular shapes of cars ). In this case a better heuristic to discriminate lines that dont form part of a lane would be needed. A starting point would be to ignore line segments that are too steep ( aproximately vertical lines ).\n",
    "\n",
    "* The smoothing mechanism can defenitely be improved. At the moment I am just keeping the coordinates of previous endpoints the algorithm found, which is rather simplistic. Not sure what the best approach would be but probably extending the amount of points kept as history plus a regularized update for current positions might be a good start.\n",
    "\n",
    "Some scenarios on which I am completly sure my algorithm would miserably fail:\n",
    "\n",
    "* When driving on roads without marked lanes. In my country, when you find yourself in the country side usually you drive on roads that have no lanes. I think that in this case a broader ROI is needed.\n",
    "\n",
    "* When you find yourself on a traffic jam the car in front of you blocks your camera from **seing** the lanes. Probably the car in this case **pays attention to other sensors(?)**.\n",
    "\n",
    "* When driving backwards :).\n"
   ]
  },
  {
   "cell_type": "markdown",
   "metadata": {},
   "source": [
    "## Submission\n",
    "\n",
    "If you're satisfied with your video outputs it's time to submit!\n"
   ]
  },
  {
   "cell_type": "markdown",
   "metadata": {
    "collapsed": true
   },
   "source": [
    "## Optional Challenge\n",
    "\n",
    "Try your lane finding pipeline on the video below.  Does it still work?  Can you figure out a way to make it more robust?  If you're up for the challenge, modify your pipeline so it works with this video and submit it along with the rest of your project!"
   ]
  },
  {
   "cell_type": "code",
   "execution_count": null,
   "metadata": {
    "collapsed": false
   },
   "outputs": [],
   "source": [
    "challenge_output = 'extra.mp4'\n",
    "clip2 = VideoFileClip('challenge.mp4')\n",
    "challenge_clip = clip2.fl_image(process_image)\n",
    "%time challenge_clip.write_videofile(challenge_output, audio=False)"
   ]
  },
  {
   "cell_type": "code",
   "execution_count": null,
   "metadata": {
    "collapsed": false
   },
   "outputs": [],
   "source": [
    "HTML(\"\"\"\n",
    "<video width=\"960\" height=\"540\" controls>\n",
    "  <source src=\"{0}\">\n",
    "</video>\n",
    "\"\"\".format(challenge_output))"
   ]
  },
  {
   "cell_type": "code",
   "execution_count": null,
   "metadata": {
    "collapsed": true
   },
   "outputs": [],
   "source": []
  }
 ],
 "metadata": {
  "anaconda-cloud": {},
  "kernelspec": {
   "display_name": "Python [conda root]",
   "language": "python",
   "name": "conda-root-py"
  },
  "language_info": {
   "codemirror_mode": {
    "name": "ipython",
    "version": 3
   },
   "file_extension": ".py",
   "mimetype": "text/x-python",
   "name": "python",
   "nbconvert_exporter": "python",
   "pygments_lexer": "ipython3",
   "version": "3.5.2"
  }
 },
 "nbformat": 4,
 "nbformat_minor": 0
}
